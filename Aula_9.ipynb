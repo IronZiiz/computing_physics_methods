{
  "nbformat": 4,
  "nbformat_minor": 0,
  "metadata": {
    "colab": {
      "provenance": [],
      "authorship_tag": "ABX9TyPxfm3rtOX7rYoeo6xJ+GzF",
      "include_colab_link": true
    },
    "kernelspec": {
      "name": "python3",
      "display_name": "Python 3"
    },
    "language_info": {
      "name": "python"
    }
  },
  "cells": [
    {
      "cell_type": "markdown",
      "metadata": {
        "id": "view-in-github",
        "colab_type": "text"
      },
      "source": [
        "<a href=\"https://colab.research.google.com/github/IronZiiz/computing_physics_methods/blob/main/Aula_9.ipynb\" target=\"_parent\"><img src=\"https://colab.research.google.com/assets/colab-badge.svg\" alt=\"Open In Colab\"/></a>"
      ]
    },
    {
      "cell_type": "markdown",
      "source": [
        "##imports"
      ],
      "metadata": {
        "id": "U5U87d_3ofIl"
      }
    },
    {
      "cell_type": "code",
      "execution_count": 4,
      "metadata": {
        "id": "KxhRQZynoZb3"
      },
      "outputs": [],
      "source": [
        "import numpy as np\n",
        "import matplotlib.pyplot as plt\n",
        "from scipy.optimize import minimize"
      ]
    },
    {
      "cell_type": "markdown",
      "source": [
        "##Defs functions"
      ],
      "metadata": {
        "id": "KYx0J7DpokNb"
      }
    },
    {
      "cell_type": "code",
      "source": [
        "def g(x):\n",
        "    return x**4 -3*x**2 + 2\n",
        "\n",
        "def dg(x):\n",
        "    return 4*x**3 -6*x\n",
        "\n",
        "def ddg(x):\n",
        "  return 12*x**2 - 6"
      ],
      "metadata": {
        "id": "5yK8kyJ8ojTz"
      },
      "execution_count": 5,
      "outputs": []
    },
    {
      "cell_type": "code",
      "source": [
        "def f(x):\n",
        "  return x**2 -4\n",
        "\n",
        "def df(x):\n",
        "  return 2*x\n",
        "\n",
        "def ddf(x):\n",
        "  return 2\n"
      ],
      "metadata": {
        "id": "ykIUU5kppDnx"
      },
      "execution_count": 6,
      "outputs": []
    },
    {
      "cell_type": "markdown",
      "source": [
        "## Minimize method  - From scipy"
      ],
      "metadata": {
        "id": "RdXX25WgpViB"
      }
    },
    {
      "cell_type": "code",
      "source": [
        "minimize(f, 2, jac = df)"
      ],
      "metadata": {
        "colab": {
          "base_uri": "https://localhost:8080/"
        },
        "id": "_7ba1BytpbP6",
        "outputId": "cc3abee5-d7cc-4acf-a8e3-033f85d2dc5f"
      },
      "execution_count": 13,
      "outputs": [
        {
          "output_type": "execute_result",
          "data": {
            "text/plain": [
              "  message: Optimization terminated successfully.\n",
              "  success: True\n",
              "   status: 0\n",
              "      fun: -4.0\n",
              "        x: [ 0.000e+00]\n",
              "      nit: 2\n",
              "      jac: [ 0.000e+00]\n",
              " hess_inv: [[ 5.000e-01]]\n",
              "     nfev: 3\n",
              "     njev: 3"
            ]
          },
          "metadata": {},
          "execution_count": 13
        }
      ]
    },
    {
      "cell_type": "code",
      "source": [
        "minimize(g, 2,jac = dg)"
      ],
      "metadata": {
        "colab": {
          "base_uri": "https://localhost:8080/"
        },
        "id": "0cQnKED3pj1V",
        "outputId": "7f7aaacd-a906-40c0-fd93-e9a2a55bc799"
      },
      "execution_count": 14,
      "outputs": [
        {
          "output_type": "execute_result",
          "data": {
            "text/plain": [
              "  message: Optimization terminated successfully.\n",
              "  success: True\n",
              "   status: 0\n",
              "      fun: -0.24999999999999822\n",
              "        x: [ 1.225e+00]\n",
              "      nit: 7\n",
              "      jac: [-1.553e-07]\n",
              " hess_inv: [[ 8.342e-02]]\n",
              "     nfev: 8\n",
              "     njev: 8"
            ]
          },
          "metadata": {},
          "execution_count": 14
        }
      ]
    },
    {
      "cell_type": "markdown",
      "source": [
        "## two vars Funcs $f(x,y)$"
      ],
      "metadata": {
        "id": "kV8APcaPsvzU"
      }
    },
    {
      "cell_type": "code",
      "source": [
        "x = np.linspace(-2, 2,100)\n",
        "y = np.linspace(-2, 2,100)\n",
        "\n",
        "X,Y = np.meshgrid(x,y)\n",
        "\n",
        "Z = X**2 + Y**2\n",
        "\n",
        "plt.figure(figsize= (6,5))\n",
        "\n",
        "c = plt.pcolormesh(X,Y,Z)\n",
        "plt.colorbar(c)\n",
        "plt.show()"
      ],
      "metadata": {
        "colab": {
          "base_uri": "https://localhost:8080/",
          "height": 451
        },
        "id": "O5yAgo3Zs0ip",
        "outputId": "1a3dd41a-26f9-4aaf-cfd1-88baad724a6f"
      },
      "execution_count": 16,
      "outputs": [
        {
          "output_type": "display_data",
          "data": {
            "text/plain": [
              "<Figure size 600x500 with 2 Axes>"
            ],
            "image/png": "[encoded data removed]"
          },
          "metadata": {}
        }
      ]
    }
  ]
}