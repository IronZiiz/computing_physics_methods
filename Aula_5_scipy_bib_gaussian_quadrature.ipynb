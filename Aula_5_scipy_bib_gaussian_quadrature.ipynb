{
  "nbformat": 4,
  "nbformat_minor": 0,
  "metadata": {
    "colab": {
      "provenance": [],
      "authorship_tag": "ABX9TyMFYEdBW/wxMt92fI4Axv6i",
      "include_colab_link": true
    },
    "kernelspec": {
      "name": "python3",
      "display_name": "Python 3"
    },
    "language_info": {
      "name": "python"
    }
  },
  "cells": [
    {
      "cell_type": "markdown",
      "metadata": {
        "id": "view-in-github",
        "colab_type": "text"
      },
      "source": [
        "<a href=\"https://colab.research.google.com/github/IronZiiz/computing_physics_methods/blob/main/Aula_5_scipy_bib_gaussian_quadrature.ipynb\" target=\"_parent\"><img src=\"https://colab.research.google.com/assets/colab-badge.svg\" alt=\"Open In Colab\"/></a>"
      ]
    },
    {
      "cell_type": "markdown",
      "source": [
        "# Using the scipy bib for integrate methods"
      ],
      "metadata": {
        "id": "dvfgwOvFcppI"
      }
    },
    {
      "cell_type": "markdown",
      "source": [
        "## imports"
      ],
      "metadata": {
        "id": "tNiDS2wocxNH"
      }
    },
    {
      "cell_type": "code",
      "source": [
        "import numpy as np\n",
        "from scipy.integrate import trapezoid, simpson\n",
        "from scipy.integrate import quad\n",
        "from scipy.integrate import fixed_quad\n",
        "\n"
      ],
      "metadata": {
        "id": "TuafA4pVctsG"
      },
      "execution_count": null,
      "outputs": []
    },
    {
      "cell_type": "markdown",
      "source": [
        "## Method Trapezoid"
      ],
      "metadata": {
        "id": "O0E03G1Sc0kN"
      }
    },
    {
      "cell_type": "code",
      "source": [
        "def f(x):\n",
        "    return np.sin(x)\n",
        "x = np.linspace(0, np.pi, 10)\n",
        "y = f(x)\n",
        "res_simp = trapezoid(y, x)\n",
        "print('Trapezoid result: ', res_simp, '\\n')\n"
      ],
      "metadata": {
        "colab": {
          "base_uri": "https://localhost:8080/"
        },
        "id": "-qyxpVKRcz-e",
        "outputId": "193df561-afb1-4239-fefb-b1be1fab05cf"
      },
      "execution_count": null,
      "outputs": [
        {
          "output_type": "stream",
          "name": "stdout",
          "text": [
            "Trapezoid result:  1.9796508112164835 \n",
            "\n"
          ]
        }
      ]
    },
    {
      "cell_type": "markdown",
      "source": [
        "## Method Simpson"
      ],
      "metadata": {
        "id": "ONii7fIlc5Ka"
      }
    },
    {
      "cell_type": "code",
      "source": [
        "res_simp = simpson(y,x =x )\n",
        "print('Simpson result: ', res_simp, '\\n')"
      ],
      "metadata": {
        "colab": {
          "base_uri": "https://localhost:8080/"
        },
        "id": "wRg24PsBdKof",
        "outputId": "17303f73-4a44-4c95-dcc0-651b41d323c7"
      },
      "execution_count": null,
      "outputs": [
        {
          "output_type": "stream",
          "name": "stdout",
          "text": [
            "Simpson result:  2.0007487283108984 \n",
            "\n"
          ]
        }
      ]
    },
    {
      "cell_type": "markdown",
      "source": [
        "## Gaussian quadrature\n",
        "\n",
        "∫ f(x) dx ~ ∑ w_{i}f(x_{i})"
      ],
      "metadata": {
        "id": "J-sryGpEfI50"
      }
    },
    {
      "cell_type": "code",
      "source": [
        "res_quad, err = quad(f, 0, np.pi)\n",
        "print('Gaussian quadrature result: ', res_quad, '\\n')\n",
        "print('Gaussian quadrature error: ', err, '\\n')"
      ],
      "metadata": {
        "colab": {
          "base_uri": "https://localhost:8080/"
        },
        "id": "QNUMbfE7fUQR",
        "outputId": "b9a7cd40-cf06-4148-e650-fddcf7a67c32"
      },
      "execution_count": null,
      "outputs": [
        {
          "output_type": "stream",
          "name": "stdout",
          "text": [
            "Gaussian quadrature result:  2.0 \n",
            "\n",
            "Gaussian quadrature error:  2.220446049250313e-14 \n",
            "\n"
          ]
        }
      ]
    },
    {
      "cell_type": "code",
      "source": [
        "res_quad, err = fixed_quad(f, 0, np.pi, n=5)\n",
        "\n",
        "print('Gaussian quadrature result: ', res_quad, '\\n')\n",
        "print('Gaussian quadrature error: ', err, '\\n')"
      ],
      "metadata": {
        "colab": {
          "base_uri": "https://localhost:8080/"
        },
        "id": "a1MUhNaYjaUT",
        "outputId": "ab401dd4-8301-45f0-b44f-3513a856f23a"
      },
      "execution_count": null,
      "outputs": [
        {
          "output_type": "stream",
          "name": "stdout",
          "text": [
            "Gaussian quadrature result:  2.0000001102844727 \n",
            "\n",
            "Gaussian quadrature error:  None \n",
            "\n"
          ]
        }
      ]
    }
  ]
}